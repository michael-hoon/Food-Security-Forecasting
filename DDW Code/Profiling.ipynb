{
 "cells": [
  {
   "cell_type": "code",
   "execution_count": 2,
   "metadata": {},
   "outputs": [
    {
     "name": "stderr",
     "output_type": "stream",
     "text": [
      "Summarize dataset: 100%|██████████| 317/317 [00:22<00:00, 14.18it/s, Completed]                                                                                                                                                                                   \n",
      "Generate report structure: 100%|██████████| 1/1 [00:04<00:00,  4.46s/it]\n",
      "Render HTML: 100%|██████████| 1/1 [00:03<00:00,  3.49s/it]\n",
      "Export report to file: 100%|██████████| 1/1 [00:00<00:00, 31.26it/s]\n"
     ]
    }
   ],
   "source": [
    "import pandas as pd\n",
    "from ydata_profiling import ProfileReport\n",
    "\n",
    "df = pd.read_excel('C:/Python_Stuff/EDA2D/Food-Security-Forecasting/Compiled, Imputated, Transformed.xlsx')\n",
    "profile = ProfileReport(df, title=\"Exploratory Data Analysis of Food Insecurity Index Worldwide\")\n",
    "profile.to_file(\"final_report.html\")"
   ]
  }
 ],
 "metadata": {
  "kernelspec": {
   "display_name": "pandas_test",
   "language": "python",
   "name": "python3"
  },
  "language_info": {
   "codemirror_mode": {
    "name": "ipython",
    "version": 3
   },
   "file_extension": ".py",
   "mimetype": "text/x-python",
   "name": "python",
   "nbconvert_exporter": "python",
   "pygments_lexer": "ipython3",
   "version": "3.9.12"
  }
 },
 "nbformat": 4,
 "nbformat_minor": 2
}
