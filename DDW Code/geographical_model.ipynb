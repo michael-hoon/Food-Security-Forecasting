{
 "cells": [
  {
   "cell_type": "code",
   "execution_count": 2,
   "id": "78852a6f-3832-41ad-acc4-100ca5b80b11",
   "metadata": {},
   "outputs": [
    {
     "ename": "ModuleNotFoundError",
     "evalue": "No module named 'pandas'",
     "output_type": "error",
     "traceback": [
      "\u001b[0;31m---------------------------------------------------------------------------\u001b[0m",
      "\u001b[0;31mModuleNotFoundError\u001b[0m                       Traceback (most recent call last)",
      "Cell \u001b[0;32mIn[2], line 3\u001b[0m\n\u001b[1;32m      1\u001b[0m \u001b[38;5;28;01mimport\u001b[39;00m \u001b[38;5;21;01mos\u001b[39;00m\n\u001b[1;32m      2\u001b[0m \u001b[38;5;28;01mimport\u001b[39;00m \u001b[38;5;21;01mnumpy\u001b[39;00m \u001b[38;5;28;01mas\u001b[39;00m \u001b[38;5;21;01mnp\u001b[39;00m\n\u001b[0;32m----> 3\u001b[0m \u001b[38;5;28;01mimport\u001b[39;00m \u001b[38;5;21;01mpandas\u001b[39;00m \u001b[38;5;28;01mas\u001b[39;00m \u001b[38;5;21;01mpd\u001b[39;00m\n\u001b[1;32m      4\u001b[0m \u001b[38;5;28;01mimport\u001b[39;00m \u001b[38;5;21;01mmatplotlib\u001b[39;00m\u001b[38;5;21;01m.\u001b[39;00m\u001b[38;5;21;01mpyplot\u001b[39;00m \u001b[38;5;28;01mas\u001b[39;00m \u001b[38;5;21;01mplt\u001b[39;00m\n\u001b[1;32m      5\u001b[0m \u001b[38;5;28;01mimport\u001b[39;00m \u001b[38;5;21;01mseaborn\u001b[39;00m \u001b[38;5;28;01mas\u001b[39;00m \u001b[38;5;21;01msns\u001b[39;00m\n",
      "\u001b[0;31mModuleNotFoundError\u001b[0m: No module named 'pandas'"
     ]
    }
   ],
   "source": [
    "#Importing functions\n",
    "import os\n",
    "import numpy as np\n",
    "import pandas as pd\n",
    "import matplotlib.pyplot as plt\n",
    "import seaborn as sns\n",
    "import sklearn as sk\n",
    "from sklearn.experimental import enable_iterative_imputer\n",
    "from sklearn.impute import IterativeImputer\n",
    "from sklearn.linear_model import LinearRegression\n",
    "from sklearn.model_selection import train_test_split\n",
    "from sklearn.model_selection import cross_validate\n",
    "from sklearn.feature_selection import f_regression\n",
    "from cohortfunctions import *"
   ]
  },
  {
   "cell_type": "code",
   "execution_count": null,
   "id": "cf8b51ae-475d-4ce6-89f2-8a221465bdbf",
   "metadata": {},
   "outputs": [],
   "source": [
    "# Choosing our predictors\n",
    "predictors = [\"Agricultural Land( %)\", \"Population\", \"Co2-Emissions per ton\",\n",
    "              \"Infant mortality\",\"ideal temperature?\",\"Precipitation Depth (mm/year)\",\n",
    "              \"Human Development Index (2021)\"]"
   ]
  },
  {
   "cell_type": "code",
   "execution_count": 3,
   "id": "a309f67c-6984-4b89-9fad-d48c2c9e53e1",
   "metadata": {},
   "outputs": [],
   "source": [
    "# Creating the foodsecurity function"
   ]
  },
  {
   "cell_type": "code",
   "execution_count": 5,
   "id": "785f159f-d67f-4cab-b66d-a0e5cb66ce66",
   "metadata": {},
   "outputs": [
    {
     "name": "stdout",
     "output_type": "stream",
     "text": [
      "Reading Data\n"
     ]
    },
    {
     "ename": "NameError",
     "evalue": "name 'pd' is not defined",
     "output_type": "error",
     "traceback": [
      "\u001b[0;31m---------------------------------------------------------------------------\u001b[0m",
      "\u001b[0;31mNameError\u001b[0m                                 Traceback (most recent call last)",
      "Cell \u001b[0;32mIn[5], line 4\u001b[0m\n\u001b[1;32m      2\u001b[0m \u001b[38;5;28mprint\u001b[39m(\u001b[38;5;124m\"\u001b[39m\u001b[38;5;124mReading Data\u001b[39m\u001b[38;5;124m\"\u001b[39m)\n\u001b[1;32m      3\u001b[0m cwd \u001b[38;5;241m=\u001b[39m os\u001b[38;5;241m.\u001b[39mgetcwd()\n\u001b[0;32m----> 4\u001b[0m df \u001b[38;5;241m=\u001b[39m \u001b[43mpd\u001b[49m\u001b[38;5;241m.\u001b[39mread_excel(\u001b[38;5;124mf\u001b[39m\u001b[38;5;124m\"\u001b[39m\u001b[38;5;132;01m{\u001b[39;00mcwd\u001b[38;5;132;01m}\u001b[39;00m\u001b[38;5;124m/Datasets/2D dataset.xlsx\u001b[39m\u001b[38;5;124m\"\u001b[39m)\n\u001b[1;32m      5\u001b[0m df \u001b[38;5;241m=\u001b[39m df\u001b[38;5;241m.\u001b[39mdrop([\u001b[38;5;124m\"\u001b[39m\u001b[38;5;124mCountry Code\u001b[39m\u001b[38;5;124m\"\u001b[39m, \u001b[38;5;124m\"\u001b[39m\u001b[38;5;124mtemperature change per country in 2022\u001b[39m\u001b[38;5;124m\"\u001b[39m], axis \u001b[38;5;241m=\u001b[39m \u001b[38;5;241m1\u001b[39m)\n",
      "\u001b[0;31mNameError\u001b[0m: name 'pd' is not defined"
     ]
    }
   ],
   "source": [
    "# Reading the data\n",
    "print(\"Reading Data\")\n",
    "cwd = os.getcwd()\n",
    "df = pd.read_excel(f\"{cwd}/Datasets/2D dataset.xlsx\")\n",
    "df = df.drop([\"Country Code\", \"temperature change per country in 2022\"], axis = 1)"
   ]
  },
  {
   "cell_type": "code",
   "execution_count": 6,
   "id": "2e001fa1-74a8-47ed-a156-89ca38e88ec5",
   "metadata": {},
   "outputs": [
    {
     "name": "stdout",
     "output_type": "stream",
     "text": [
      "Imputing...\n"
     ]
    },
    {
     "ename": "NameError",
     "evalue": "name 'IterativeImputer' is not defined",
     "output_type": "error",
     "traceback": [
      "\u001b[0;31m---------------------------------------------------------------------------\u001b[0m",
      "\u001b[0;31mNameError\u001b[0m                                 Traceback (most recent call last)",
      "Cell \u001b[0;32mIn[6], line 3\u001b[0m\n\u001b[1;32m      1\u001b[0m \u001b[38;5;66;03m# Getting rid of the NaNs using imputation\u001b[39;00m\n\u001b[1;32m      2\u001b[0m \u001b[38;5;28mprint\u001b[39m(\u001b[38;5;124m\"\u001b[39m\u001b[38;5;124mImputing...\u001b[39m\u001b[38;5;124m\"\u001b[39m)\n\u001b[0;32m----> 3\u001b[0m imp \u001b[38;5;241m=\u001b[39m \u001b[43mIterativeImputer\u001b[49m(max_iter\u001b[38;5;241m=\u001b[39m\u001b[38;5;241m1000\u001b[39m, random_state\u001b[38;5;241m=\u001b[39m\u001b[38;5;241m0\u001b[39m)\n\u001b[1;32m      4\u001b[0m df_imp \u001b[38;5;241m=\u001b[39m imp\u001b[38;5;241m.\u001b[39mfit_transform(df\u001b[38;5;241m.\u001b[39miloc[:,\u001b[38;5;241m1\u001b[39m:])\n\u001b[1;32m      5\u001b[0m df_imp \u001b[38;5;241m=\u001b[39m pd\u001b[38;5;241m.\u001b[39mDataFrame(df_imp)\n",
      "\u001b[0;31mNameError\u001b[0m: name 'IterativeImputer' is not defined"
     ]
    }
   ],
   "source": [
    "# Getting rid of the NaNs using imputation\n",
    "print(\"Imputing...\")\n",
    "imp = IterativeImputer(max_iter=1000, random_state=0)\n",
    "df_imp = imp.fit_transform(df.iloc[:,1:])\n",
    "df_imp = pd.DataFrame(df_imp)\n",
    "print(df_imp.columns, df.columns)\n",
    "df_imp.columns = df.iloc[:,1:].columns\n",
    "df_imp[\"Country\"] = df.loc[:, [\"Country\"]]\n",
    "print(df_imp)\n",
    "print(\"Imputed!\")\n",
    "\n",
    "# Splitting numerical data and non numerical\n",
    "df_country_name = df_imp[\"Country\"]\n",
    "df_without_country_name = df_imp.drop([\"Country\"], axis = 1)"
   ]
  },
  {
   "cell_type": "code",
   "execution_count": 7,
   "id": "e4870bae-6e22-4a04-a718-ec2856514be3",
   "metadata": {},
   "outputs": [
    {
     "name": "stdout",
     "output_type": "stream",
     "text": [
      "Normalizing\n"
     ]
    },
    {
     "ename": "NameError",
     "evalue": "name 'normalize_z' is not defined",
     "output_type": "error",
     "traceback": [
      "\u001b[0;31m---------------------------------------------------------------------------\u001b[0m",
      "\u001b[0;31mNameError\u001b[0m                                 Traceback (most recent call last)",
      "Cell \u001b[0;32mIn[7], line 3\u001b[0m\n\u001b[1;32m      1\u001b[0m \u001b[38;5;66;03m#Normalize\u001b[39;00m\n\u001b[1;32m      2\u001b[0m \u001b[38;5;28mprint\u001b[39m(\u001b[38;5;124m\"\u001b[39m\u001b[38;5;124mNormalizing\u001b[39m\u001b[38;5;124m\"\u001b[39m)\n\u001b[0;32m----> 3\u001b[0m df_norm,df_norm_means,df_norm_stds \u001b[38;5;241m=\u001b[39m \u001b[43mnormalize_z\u001b[49m(df_without_country_name)\n\u001b[1;32m      4\u001b[0m df_norm\u001b[38;5;241m.\u001b[39mto_csv(\u001b[38;5;124m\"\u001b[39m\u001b[38;5;124mgeographical_processed_data.csv\u001b[39m\u001b[38;5;124m\"\u001b[39m, mode \u001b[38;5;241m=\u001b[39m \u001b[38;5;124m\"\u001b[39m\u001b[38;5;124mw\u001b[39m\u001b[38;5;124m\"\u001b[39m)\n\u001b[1;32m      5\u001b[0m \u001b[38;5;28mprint\u001b[39m(df_norm\u001b[38;5;241m.\u001b[39mhead())\n",
      "\u001b[0;31mNameError\u001b[0m: name 'normalize_z' is not defined"
     ]
    }
   ],
   "source": [
    "#Normalize\n",
    "print(\"Normalizing\")\n",
    "df_norm,df_norm_means,df_norm_stds = normalize_z(df_without_country_name)\n",
    "df_norm.to_csv(\"geographical_processed_data.csv\", mode = \"w\")\n",
    "print(df_norm.head())\n",
    "df_norm = df_norm.dropna()\n",
    "print(\"Normalized!\")"
   ]
  },
  {
   "cell_type": "code",
   "execution_count": 9,
   "id": "2f4ff431-2120-4914-a10b-1c6120743b7d",
   "metadata": {},
   "outputs": [
    {
     "name": "stdout",
     "output_type": "stream",
     "text": [
      "Prepping data!\n"
     ]
    },
    {
     "ename": "NameError",
     "evalue": "name 'get_features_targets' is not defined",
     "output_type": "error",
     "traceback": [
      "\u001b[0;31m---------------------------------------------------------------------------\u001b[0m",
      "\u001b[0;31mNameError\u001b[0m                                 Traceback (most recent call last)",
      "Cell \u001b[0;32mIn[9], line 4\u001b[0m\n\u001b[1;32m      2\u001b[0m \u001b[38;5;28mprint\u001b[39m(\u001b[38;5;124m\"\u001b[39m\u001b[38;5;124mPrepping data!\u001b[39m\u001b[38;5;124m\"\u001b[39m)\n\u001b[1;32m      3\u001b[0m target \u001b[38;5;241m=\u001b[39m [\u001b[38;5;124m\"\u001b[39m\u001b[38;5;124mPrevalence of moderate or severe food insecurity in the total population (percent) (2022)\u001b[39m\u001b[38;5;124m\"\u001b[39m]\n\u001b[0;32m----> 4\u001b[0m df_features, df_target \u001b[38;5;241m=\u001b[39m \u001b[43mget_features_targets\u001b[49m(df_norm, predictors, target)\n\u001b[1;32m      5\u001b[0m df_features_train, df_features_test, df_target_train, df_target_test \u001b[38;5;241m=\u001b[39m split_data(df_features, df_target, test_size \u001b[38;5;241m=\u001b[39m \u001b[38;5;241m0.2\u001b[39m)\n\u001b[1;32m      6\u001b[0m X \u001b[38;5;241m=\u001b[39m prepare_feature(df_features_train)\n",
      "\u001b[0;31mNameError\u001b[0m: name 'get_features_targets' is not defined"
     ]
    }
   ],
   "source": [
    "# Prepping the data\n",
    "print(\"Prepping data!\")\n",
    "target = [\"Prevalence of moderate or severe food insecurity in the total population (percent) (2022)\"]\n",
    "df_features, df_target = get_features_targets(df_norm, predictors, target)\n",
    "df_features_train, df_features_test, df_target_train, df_target_test = split_data(df_features, df_target, test_size = 0.2)\n",
    "X = prepare_feature(df_features_train)\n",
    "target = prepare_target(df_target_train)"
   ]
  },
  {
   "cell_type": "code",
   "execution_count": 10,
   "id": "5d80b999-6cdf-4625-8b55-cc31aea97700",
   "metadata": {},
   "outputs": [
    {
     "name": "stdout",
     "output_type": "stream",
     "text": [
      "Gradient Descent Time\n"
     ]
    },
    {
     "ename": "NameError",
     "evalue": "name 'predictors' is not defined",
     "output_type": "error",
     "traceback": [
      "\u001b[0;31m---------------------------------------------------------------------------\u001b[0m",
      "\u001b[0;31mNameError\u001b[0m                                 Traceback (most recent call last)",
      "Cell \u001b[0;32mIn[10], line 5\u001b[0m\n\u001b[1;32m      3\u001b[0m iterations \u001b[38;5;241m=\u001b[39m \u001b[38;5;241m1500\u001b[39m\n\u001b[1;32m      4\u001b[0m alpha \u001b[38;5;241m=\u001b[39m \u001b[38;5;241m0.01\u001b[39m\n\u001b[0;32m----> 5\u001b[0m beta \u001b[38;5;241m=\u001b[39m np\u001b[38;5;241m.\u001b[39mzeros((\u001b[38;5;28mlen\u001b[39m(\u001b[43mpredictors\u001b[49m)\u001b[38;5;241m+\u001b[39m\u001b[38;5;241m1\u001b[39m,\u001b[38;5;241m1\u001b[39m))\n\u001b[1;32m      7\u001b[0m beta, J_storage \u001b[38;5;241m=\u001b[39m gradient_descent_linreg(X, target, beta, alpha, iterations)\n",
      "\u001b[0;31mNameError\u001b[0m: name 'predictors' is not defined"
     ]
    }
   ],
   "source": [
    "# gradient descent time\n",
    "print(\"Gradient Descent Time\")\n",
    "iterations = 1500\n",
    "alpha = 0.01\n",
    "beta = np.zeros((len(predictors)+1,1))\n",
    "\n",
    "beta, J_storage = gradient_descent_linreg(X, target, beta, alpha, iterations)"
   ]
  },
  {
   "cell_type": "code",
   "execution_count": 12,
   "id": "ea21c233-3475-4d19-a675-822ac31edb12",
   "metadata": {},
   "outputs": [
    {
     "name": "stdout",
     "output_type": "stream",
     "text": [
      "Predicting\n"
     ]
    },
    {
     "ename": "NameError",
     "evalue": "name 'LinearRegression' is not defined",
     "output_type": "error",
     "traceback": [
      "\u001b[0;31m---------------------------------------------------------------------------\u001b[0m",
      "\u001b[0;31mNameError\u001b[0m                                 Traceback (most recent call last)",
      "Cell \u001b[0;32mIn[12], line 3\u001b[0m\n\u001b[1;32m      1\u001b[0m \u001b[38;5;66;03m# predicting\u001b[39;00m\n\u001b[1;32m      2\u001b[0m \u001b[38;5;28mprint\u001b[39m(\u001b[38;5;124m\"\u001b[39m\u001b[38;5;124mPredicting\u001b[39m\u001b[38;5;124m\"\u001b[39m)\n\u001b[0;32m----> 3\u001b[0m skpred \u001b[38;5;241m=\u001b[39m \u001b[43mLinearRegression\u001b[49m()\n\u001b[1;32m      4\u001b[0m skpred\u001b[38;5;241m.\u001b[39mfit(df_features, df_target)\n\u001b[1;32m      5\u001b[0m pred \u001b[38;5;241m=\u001b[39m predict_linreg(df_features_test, beta)\n",
      "\u001b[0;31mNameError\u001b[0m: name 'LinearRegression' is not defined"
     ]
    }
   ],
   "source": [
    "# predicting\n",
    "print(\"Predicting\")\n",
    "skpred = LinearRegression()\n",
    "skpred.fit(df_features, df_target)\n",
    "pred = predict_linreg(df_features_test, beta)\n",
    "print(pred)\n",
    "print(\"Predicted!\")"
   ]
  },
  {
   "cell_type": "code",
   "execution_count": 13,
   "id": "172a8f2b-bd10-4978-9f48-279127fe1740",
   "metadata": {},
   "outputs": [
    {
     "ename": "NameError",
     "evalue": "name 'prepare_target' is not defined",
     "output_type": "error",
     "traceback": [
      "\u001b[0;31m---------------------------------------------------------------------------\u001b[0m",
      "\u001b[0;31mNameError\u001b[0m                                 Traceback (most recent call last)",
      "Cell \u001b[0;32mIn[13], line 1\u001b[0m\n\u001b[0;32m----> 1\u001b[0m target_test \u001b[38;5;241m=\u001b[39m \u001b[43mprepare_target\u001b[49m(df_target_test)\n\u001b[1;32m      2\u001b[0m feature_test \u001b[38;5;241m=\u001b[39m prepare_feature(df_features_test)\n",
      "\u001b[0;31mNameError\u001b[0m: name 'prepare_target' is not defined"
     ]
    }
   ],
   "source": [
    "target_test = prepare_target(df_target_test)\n",
    "feature_test = prepare_feature(df_features_test)"
   ]
  },
  {
   "cell_type": "code",
   "execution_count": null,
   "id": "ef807bcd-4744-4c92-9ac6-75d7059686f0",
   "metadata": {},
   "outputs": [],
   "source": [
    "plt.scatter(df_features_test[df_features.columns[0]],target_test)\n",
    "plt.scatter(df_features_test[df_features.columns[0]],pred)"
   ]
  },
  {
   "cell_type": "code",
   "execution_count": 14,
   "id": "50355dd4-e650-4687-84cd-98dacec0292b",
   "metadata": {},
   "outputs": [
    {
     "name": "stdout",
     "output_type": "stream",
     "text": [
      "Calculating MSE\n"
     ]
    },
    {
     "ename": "NameError",
     "evalue": "name 'mean_squared_error' is not defined",
     "output_type": "error",
     "traceback": [
      "\u001b[0;31m---------------------------------------------------------------------------\u001b[0m",
      "\u001b[0;31mNameError\u001b[0m                                 Traceback (most recent call last)",
      "Cell \u001b[0;32mIn[14], line 3\u001b[0m\n\u001b[1;32m      1\u001b[0m \u001b[38;5;66;03m#Mean squared error\u001b[39;00m\n\u001b[1;32m      2\u001b[0m \u001b[38;5;28mprint\u001b[39m(\u001b[38;5;124m\"\u001b[39m\u001b[38;5;124mCalculating MSE\u001b[39m\u001b[38;5;124m\"\u001b[39m)\n\u001b[0;32m----> 3\u001b[0m mse \u001b[38;5;241m=\u001b[39m \u001b[43mmean_squared_error\u001b[49m(target_test, pred)\n\u001b[1;32m      4\u001b[0m \u001b[38;5;28mprint\u001b[39m(\u001b[38;5;124mf\u001b[39m\u001b[38;5;124m\"\u001b[39m\u001b[38;5;124mMean Squared Error: \u001b[39m\u001b[38;5;132;01m{\u001b[39;00mmse\u001b[38;5;132;01m}\u001b[39;00m\u001b[38;5;124m\"\u001b[39m)\n",
      "\u001b[0;31mNameError\u001b[0m: name 'mean_squared_error' is not defined"
     ]
    }
   ],
   "source": [
    "#Mean squared error\n",
    "print(\"Calculating MSE\")\n",
    "mse = mean_squared_error(target_test, pred)\n",
    "print(f\"Mean Squared Error: {mse}\")"
   ]
  },
  {
   "cell_type": "code",
   "execution_count": 15,
   "id": "1e01c843-6d7c-4c0c-9fd8-4e3fbc918648",
   "metadata": {},
   "outputs": [
    {
     "name": "stdout",
     "output_type": "stream",
     "text": [
      "Calculating f-stat\n"
     ]
    },
    {
     "ename": "NameError",
     "evalue": "name 'pd' is not defined",
     "output_type": "error",
     "traceback": [
      "\u001b[0;31m---------------------------------------------------------------------------\u001b[0m",
      "\u001b[0;31mNameError\u001b[0m                                 Traceback (most recent call last)",
      "Cell \u001b[0;32mIn[15], line 3\u001b[0m\n\u001b[1;32m      1\u001b[0m \u001b[38;5;66;03m#f-stat \u001b[39;00m\n\u001b[1;32m      2\u001b[0m \u001b[38;5;28mprint\u001b[39m(\u001b[38;5;124m\"\u001b[39m\u001b[38;5;124mCalculating f-stat\u001b[39m\u001b[38;5;124m\"\u001b[39m)\n\u001b[0;32m----> 3\u001b[0m stat_values \u001b[38;5;241m=\u001b[39m \u001b[43mpd\u001b[49m\u001b[38;5;241m.\u001b[39mDataFrame()\n\u001b[1;32m      4\u001b[0m stat_values[\u001b[38;5;124m\"\u001b[39m\u001b[38;5;124mf-stat\u001b[39m\u001b[38;5;124m\"\u001b[39m],stat_values[\u001b[38;5;124m\"\u001b[39m\u001b[38;5;124mp-values\u001b[39m\u001b[38;5;124m\"\u001b[39m] \u001b[38;5;241m=\u001b[39m f_regression(df_features, df_target\u001b[38;5;241m.\u001b[39mvalues\u001b[38;5;241m.\u001b[39mravel())\n\u001b[1;32m      5\u001b[0m \u001b[38;5;28mprint\u001b[39m(stat_values)\n",
      "\u001b[0;31mNameError\u001b[0m: name 'pd' is not defined"
     ]
    }
   ],
   "source": [
    "#f-stat \n",
    "print(\"Calculating f-stat\")\n",
    "stat_values = pd.DataFrame()\n",
    "stat_values[\"f-stat\"],stat_values[\"p-values\"] = f_regression(df_features, df_target.values.ravel())\n",
    "print(stat_values)"
   ]
  },
  {
   "cell_type": "code",
   "execution_count": 16,
   "id": "546506a9-0dae-4bf6-b57a-9024f8e179cd",
   "metadata": {},
   "outputs": [
    {
     "ename": "NameError",
     "evalue": "name 'cross_validate' is not defined",
     "output_type": "error",
     "traceback": [
      "\u001b[0;31m---------------------------------------------------------------------------\u001b[0m",
      "\u001b[0;31mNameError\u001b[0m                                 Traceback (most recent call last)",
      "Cell \u001b[0;32mIn[16], line 3\u001b[0m\n\u001b[1;32m      1\u001b[0m \u001b[38;5;66;03m# CV with scores\u001b[39;00m\n\u001b[1;32m      2\u001b[0m metrics \u001b[38;5;241m=\u001b[39m [\u001b[38;5;124m'\u001b[39m\u001b[38;5;124mr2\u001b[39m\u001b[38;5;124m'\u001b[39m, \u001b[38;5;124m'\u001b[39m\u001b[38;5;124mneg_mean_squared_error\u001b[39m\u001b[38;5;124m'\u001b[39m]\n\u001b[0;32m----> 3\u001b[0m cv_results \u001b[38;5;241m=\u001b[39m \u001b[43mcross_validate\u001b[49m(skpred, df_features, df_target, cv\u001b[38;5;241m=\u001b[39m\u001b[38;5;241m10\u001b[39m,\n\u001b[1;32m      4\u001b[0m                             scoring\u001b[38;5;241m=\u001b[39mmetrics, return_train_score\u001b[38;5;241m=\u001b[39m\u001b[38;5;28;01mTrue\u001b[39;00m)\n\u001b[1;32m      5\u001b[0m cv_df \u001b[38;5;241m=\u001b[39m pd\u001b[38;5;241m.\u001b[39mDataFrame(cv_results)\n\u001b[1;32m      6\u001b[0m \u001b[38;5;28mprint\u001b[39m(cv_df) \n",
      "\u001b[0;31mNameError\u001b[0m: name 'cross_validate' is not defined"
     ]
    }
   ],
   "source": [
    "# CV with scores\n",
    "metrics = ['r2', 'neg_mean_squared_error']\n",
    "cv_results = cross_validate(skpred, df_features, df_target, cv=10,\n",
    "                            scoring=metrics, return_train_score=True)\n",
    "cv_df = pd.DataFrame(cv_results)\n",
    "print(cv_df) \n",
    "EVAL = 'test_neg_mean_squared_error'\n",
    "print(f\"Average {EVAL}: {np.mean(cv_df[EVAL])}\")"
   ]
  },
  {
   "cell_type": "code",
   "execution_count": null,
   "id": "91b542f9-c4af-415c-974e-19fa80a30835",
   "metadata": {},
   "outputs": [],
   "source": []
  }
 ],
 "metadata": {
  "kernelspec": {
   "display_name": "Python 3 (ipykernel)",
   "language": "python",
   "name": "python3"
  },
  "language_info": {
   "codemirror_mode": {
    "name": "ipython",
    "version": 3
   },
   "file_extension": ".py",
   "mimetype": "text/x-python",
   "name": "python",
   "nbconvert_exporter": "python",
   "pygments_lexer": "ipython3",
   "version": "3.11.5"
  }
 },
 "nbformat": 4,
 "nbformat_minor": 5
}
