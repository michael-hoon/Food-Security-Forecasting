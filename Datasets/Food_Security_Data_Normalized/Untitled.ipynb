{
 "cells": [
  {
   "cell_type": "code",
   "execution_count": 1,
   "id": "1cf976e8",
   "metadata": {},
   "outputs": [],
   "source": [
    "import pandas as pd"
   ]
  },
  {
   "cell_type": "code",
   "execution_count": 8,
   "id": "51a36670",
   "metadata": {},
   "outputs": [],
   "source": [
    "df = pd.read_csv('Food_Security_Data_E_All_Data_(Normalized).csv', encoding = \"Latin\", engine = 'python')"
   ]
  },
  {
   "cell_type": "code",
   "execution_count": 11,
   "id": "ddaf7fd6",
   "metadata": {},
   "outputs": [],
   "source": [
    "columns = ['Area','Item','Year','Value']\n",
    "\n",
    "df_useful = df.loc[(df['Item']=='Prevalence of moderate or severe food insecurity in the total population (percent) (3-year average)')\\\n",
    "            & (df['Year'] == '2020-2022'),columns]"
   ]
  },
  {
   "cell_type": "code",
   "execution_count": 14,
   "id": "a1a1eb51",
   "metadata": {},
   "outputs": [
    {
     "name": "stdout",
     "output_type": "stream",
     "text": [
      "                                 Area  \\\n",
      "209                       Afghanistan   \n",
      "216                       Afghanistan   \n",
      "223                       Afghanistan   \n",
      "1084                          Albania   \n",
      "1091                          Albania   \n",
      "...                               ...   \n",
      "231232          High-income economies   \n",
      "231239          High-income economies   \n",
      "232487  Upper-middle-income economies   \n",
      "232494  Upper-middle-income economies   \n",
      "232501  Upper-middle-income economies   \n",
      "\n",
      "                                                     Item       Year Value  \n",
      "209     Prevalence of moderate or severe food insecuri...  2020-2022  79.1  \n",
      "216     Prevalence of moderate or severe food insecuri...  2020-2022  75.7  \n",
      "223     Prevalence of moderate or severe food insecuri...  2020-2022  82.6  \n",
      "1084    Prevalence of moderate or severe food insecuri...  2020-2022  30.2  \n",
      "1091    Prevalence of moderate or severe food insecuri...  2020-2022  27.2  \n",
      "...                                                   ...        ...   ...  \n",
      "231232  Prevalence of moderate or severe food insecuri...  2020-2022   7.3  \n",
      "231239  Prevalence of moderate or severe food insecuri...  2020-2022   7.8  \n",
      "232487  Prevalence of moderate or severe food insecuri...  2020-2022  16.2  \n",
      "232494  Prevalence of moderate or severe food insecuri...  2020-2022  15.5  \n",
      "232501  Prevalence of moderate or severe food insecuri...  2020-2022  16.8  \n",
      "\n",
      "[747 rows x 4 columns]\n"
     ]
    }
   ],
   "source": [
    "print(df_useful)\n",
    "df_useful.to_csv('Useful_foodsecurity_normalised.csv')"
   ]
  },
  {
   "cell_type": "code",
   "execution_count": null,
   "id": "182a1bb0",
   "metadata": {},
   "outputs": [],
   "source": []
  }
 ],
 "metadata": {
  "kernelspec": {
   "display_name": "Python 3 (ipykernel)",
   "language": "python",
   "name": "python3"
  },
  "language_info": {
   "codemirror_mode": {
    "name": "ipython",
    "version": 3
   },
   "file_extension": ".py",
   "mimetype": "text/x-python",
   "name": "python",
   "nbconvert_exporter": "python",
   "pygments_lexer": "ipython3",
   "version": "3.9.13"
  }
 },
 "nbformat": 4,
 "nbformat_minor": 5
}
