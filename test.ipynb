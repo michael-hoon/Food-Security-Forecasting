{
 "cells": [
  {
   "cell_type": "code",
   "execution_count": 2,
   "metadata": {},
   "outputs": [
    {
     "name": "stderr",
     "output_type": "stream",
     "text": [
      "Summarize dataset: 100%|██████████| 254/254 [00:49<00:00,  5.16it/s, Completed]                                                                                                                                                                                   \n",
      "Generate report structure: 100%|██████████| 1/1 [00:12<00:00, 12.90s/it]\n",
      "Render HTML: 100%|██████████| 1/1 [00:08<00:00,  8.08s/it]\n",
      "Export report to file: 100%|██████████| 1/1 [00:00<00:00, 15.63it/s]\n"
     ]
    }
   ],
   "source": [
    "import pandas as pd\n",
    "from ydata_profiling import ProfileReport\n",
    "\n",
    "df = pd.read_excel('C:/Python_Stuff/EDA2D/Food-Security-Forecasting/2D dataset.xlsx')\n",
    "profile = ProfileReport(df, title=\"Profiling Report\")\n",
    "profile.to_file(\"my_report.html\")"
   ]
  }
 ],
 "metadata": {
  "kernelspec": {
   "display_name": "pandas_test",
   "language": "python",
   "name": "python3"
  },
  "language_info": {
   "codemirror_mode": {
    "name": "ipython",
    "version": 3
   },
   "file_extension": ".py",
   "mimetype": "text/x-python",
   "name": "python",
   "nbconvert_exporter": "python",
   "pygments_lexer": "ipython3",
   "version": "3.9.12"
  }
 },
 "nbformat": 4,
 "nbformat_minor": 2
}
